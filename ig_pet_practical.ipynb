{
 "cells": [
  {
   "cell_type": "markdown",
   "metadata": {},
   "source": [
    "### Investigating volatiles in melts using VESIcal"
   ]
  },
  {
   "cell_type": "markdown",
   "metadata": {},
   "source": [
    "For any code using the VESIcal library, the library must be imported for use. Here we import VESIcal as v. Any time we wish to initialize a VESIcal object, that class name must be preceded by '`v.`' (e.g., v.calculate_saturation_pressure). Specific examples of this usage follow. Here we also import some other python libraries that we will be using in the worked examples below."
   ]
  },
  {
   "cell_type": "code",
   "execution_count": null,
   "metadata": {},
   "outputs": [],
   "source": [
    "import VESIcal as v\n",
    "import pandas as pd\n",
    "from IPython.display import display, HTML\n",
    "%matplotlib inline"
   ]
  },
  {
   "cell_type": "markdown",
   "metadata": {},
   "source": [
    "### Calculating saturation pressures\n",
    "In this practical, we're interested in estimating the pressure of volatile saturation of a melt inclusion of metaluminous melt composition.\n",
    "Volatile solubility is a function of composition, but for this practical we'll use the solubility model of Liu et al. (2005; doi:10.1016/j.jvolgeores.2004.09.019), which is designed for metaluminous haplogranites and rhyolites but is otherwise composition-independent."
   ]
  },
  {
   "cell_type": "markdown",
   "metadata": {},
   "source": [
    "I've added the composition of a typical rhyolite; all you need to do is add the H2O and CO2 contents and adjust the temperature of equilibration."
   ]
  },
  {
   "cell_type": "code",
   "execution_count": null,
   "metadata": {},
   "outputs": [],
   "source": [
    "inclusion_wt_composition = {'SiO2':  77.19,\n",
    "                            'TiO2': 0.06,\n",
    "                            'Al2O3': 12.80,\n",
    "                            'FeO': 0.94,\n",
    "                            'MgO': 0.03,\n",
    "                            'CaO': 0.53,\n",
    "                            'Na2O': 3.98,\n",
    "                            'K2O': 4.65,\n",
    "                            'H2O': 0.,\n",
    "                            'CO2': 0.}\n",
    "\n",
    "# Makes a VESIcal sample object\n",
    "rhyolite_inclusion = v.Sample(inclusion_wt_composition)\n",
    "\n",
    "# Calculates the saturation pressure and stores some information in another object\n",
    "# VESIcal requests temperatures in Celsius!\n",
    "saturation_pressure = v.calculate_saturation_pressure(sample=rhyolite_inclusion, temperature=2000.0, verbose=True, model=\"Liu\")\n",
    "\n",
    "# Prints the pressure of equilibration. VESIcal reports pressures in bar.\n",
    "print(f'The inclusion becomes volatile-saturated at {saturation_pressure.result/1000.:.2f} kbar')"
   ]
  }
 ],
 "metadata": {
  "kernelspec": {
   "display_name": "Python 3",
   "language": "python",
   "name": "python3"
  },
  "language_info": {
   "codemirror_mode": {
    "name": "ipython",
    "version": 3
   },
   "file_extension": ".py",
   "mimetype": "text/x-python",
   "name": "python",
   "nbconvert_exporter": "python",
   "pygments_lexer": "ipython3",
   "version": "3.11.4"
  },
  "toc": {
   "base_numbering": "0",
   "nav_menu": {
    "height": "697px",
    "width": "458px"
   },
   "number_sections": true,
   "sideBar": false,
   "skip_h1_title": false,
   "title_cell": "Table of Contents",
   "title_sidebar": "Contents",
   "toc_cell": false,
   "toc_position": {
    "height": "calc(100% - 180px)",
    "left": "10px",
    "top": "150px",
    "width": "193px"
   },
   "toc_section_display": true,
   "toc_window_display": false
  }
 },
 "nbformat": 4,
 "nbformat_minor": 4
}
